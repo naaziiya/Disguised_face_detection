{
 "cells": [
  {
   "cell_type": "code",
   "execution_count": null,
   "metadata": {},
   "outputs": [],
   "source": [
    "\n",
    "from tensorflow.keras.preprocessing.image import ImageDataGenerator, load_img, img_to_array\n",
    "from tensorflow.keras.models import Sequential, Model, load_model\n",
    "from tensorflow.keras.layers import Conv2D, MaxPooling2D, Flatten, Dense, Dropout\n",
    "from tensorflow.keras.optimizers import Adam, RMSprop\n",
    "from tensorflow.keras.layers import Input\n",
    "from tensorflow.keras.callbacks import ModelCheckpoint, EarlyStopping\n",
    "\n",
    "import glob # Extract specific files\n",
    "import os\n",
    "import pandas as pd\n",
    "import numpy as np\n",
    "from numpy import expand_dims\n",
    "import matplotlib.pyplot as plt\n",
    "%matplotlib inline\n",
    "\n",
    "from pathlib import Path\n",
    "from skimage.io import imread"
   ]
  },
  {
   "cell_type": "markdown",
   "metadata": {},
   "source": [
    "# 1. Data Preparation"
   ]
  },
  {
   "cell_type": "markdown",
   "metadata": {},
   "source": [
    "### Load Data"
   ]
  },
  {
   "cell_type": "code",
   "execution_count": null,
   "metadata": {},
   "outputs": [],
   "source": [
    "path='./disguise_face_dataset'"
   ]
  },
  {
   "cell_type": "markdown",
   "metadata": {},
   "source": [
    "### PENOMONIA vs NORMAL"
   ]
  },
  {
   "cell_type": "markdown",
   "metadata": {},
   "source": [
    "# 2. Data Augmentation"
   ]
  },
  {
   "cell_type": "code",
   "execution_count": null,
   "metadata": {},
   "outputs": [],
   "source": [
    "train_dir=r'C:\\Users\\KRISHNA PRASAD P\\Desktop\\Disguised\\disguise_face_dataset'\n",
    "train_datagen = ImageDataGenerator(\n",
    "    rescale = 1./255,\n",
    ")\n",
    "\n",
    "training_set = train_datagen.flow_from_directory(\n",
    "    train_dir,\n",
    "    target_size = (150, 150), # image size\n",
    "    batch_size = 2\n",
    ")\n",
    "\n"
   ]
  },
  {
   "cell_type": "markdown",
   "metadata": {},
   "source": [
    "### Apply for train set"
   ]
  },
  {
   "cell_type": "code",
   "execution_count": null,
   "metadata": {},
   "outputs": [],
   "source": [
    "nb_train_samples = 100\n",
    "img_width, img_height = 160, 160\n",
    "batch_size = 8\n",
    "\n",
    "\n",
    "train_datagen = ImageDataGenerator(\n",
    "rescale = 1./255, \n",
    "    shear_range = 0.3, \n",
    "    zoom_range = 0.3,\n",
    "    height_shift_range=0.1,\n",
    "    width_shift_range=0.1,\n",
    "    horizontal_flip = True\n",
    ")\n",
    "\n",
    "training_set = train_datagen.flow_from_directory(\n",
    "    train_dir,\n",
    "    target_size = (img_width, img_height), \n",
    "    batch_size = batch_size,\n",
    ")\n"
   ]
  },
  {
   "cell_type": "markdown",
   "metadata": {},
   "source": [
    "# 3. Modeling"
   ]
  },
  {
   "cell_type": "code",
   "execution_count": null,
   "metadata": {},
   "outputs": [],
   "source": [
    "###### VGG16 ######\n",
    "def vgg_m():\n",
    "    input_data = Input(shape=(img_width, img_height, 3), name = \"InputData\")\n",
    "\n",
    "    # (1)\n",
    "    x = Conv2D(filters = 64, kernel_size = (3,3), padding = 'same', activation = 'relu')(input_data)\n",
    "    x = Conv2D(filters = 64, kernel_size = (3,3), padding = 'same', activation = 'relu')(x)\n",
    "    x = MaxPooling2D((2,2))(x)\n",
    "    \n",
    "    # (2)\n",
    "    x = Conv2D(filters = 128, kernel_size = (3,3), padding = 'same', activation = 'relu')(x)\n",
    "    x = Conv2D(filters = 128, kernel_size = (3,3), padding = 'same', activation = 'relu')(x)\n",
    "    x = MaxPooling2D((2,2))(x)\n",
    "    \n",
    "    # (3)\n",
    "    x = Conv2D(filters = 256, kernel_size = (3,3), padding = 'same', activation = 'relu')(x)\n",
    "    x = Conv2D(filters = 256, kernel_size = (3,3), padding = 'same', activation = 'relu')(x)\n",
    "    x = Conv2D(filters = 256, kernel_size = (3,3), padding = 'same', activation = 'relu')(x)\n",
    "    x = MaxPooling2D((2,2))(x)\n",
    "    \n",
    "    #(4)\n",
    "    x = Conv2D(filters = 512, kernel_size = (3,3), padding = 'same', activation = 'relu')(x)\n",
    "    x = Conv2D(filters = 512, kernel_size = (3,3), padding = 'same', activation = 'relu')(x)\n",
    "    x = Conv2D(filters = 512, kernel_size = (3,3), padding = 'same', activation = 'relu')(x)\n",
    "    x = MaxPooling2D((2,2))(x)\n",
    "    \n",
    "    #(5)\n",
    "    x = Conv2D(filters = 512, kernel_size = (3,3), padding = 'same', activation = 'relu')(x)\n",
    "    x = Conv2D(filters = 512, kernel_size = (3,3), padding = 'same', activation = 'relu')(x)\n",
    "    x = Conv2D(filters = 512, kernel_size = (3,3), padding = 'same', activation = 'relu')(x)\n",
    "    x = MaxPooling2D((2,2))(x)\n",
    "    \n",
    "    # (6)\n",
    "    x = Flatten()(x)\n",
    "    x = Dense(4096, activation = 'relu')(x)\n",
    "    x = Dropout(0.3)(x) \n",
    "    x = Dense(4096, activation = 'relu')(x)\n",
    "    x = Dropout(0.3)(x)\n",
    "    x = Dense(1024, activation = 'relu')(x)\n",
    "    x = Dropout(0.3)(x)\n",
    "    output = Dense(5, activation = 'softmax')(x) \n",
    "    \n",
    "    model = Model(input_data, output)\n",
    "    \n",
    "    return model"
   ]
  },
  {
   "cell_type": "code",
   "execution_count": null,
   "metadata": {},
   "outputs": [],
   "source": [
    "vgg = vgg_m()\n",
    "vgg.summary()"
   ]
  },
  {
   "cell_type": "code",
   "execution_count": null,
   "metadata": {},
   "outputs": [],
   "source": [
    "# When I used Adam, the model fell into the local minima\n",
    "vgg.compile(optimizer = RMSprop(lr=0.00005), loss = 'categorical_crossentropy', metrics = ['acc'])\n"
   ]
  },
  {
   "cell_type": "code",
   "execution_count": null,
   "metadata": {},
   "outputs": [],
   "source": [
    "history = vgg.fit_generator( training_set,\n",
    "                            steps_per_epoch = nb_train_samples // batch_size,                               \n",
    "                            epochs = 120)                               \n",
    "\n",
    "#vgg_model.save('D:/chest-xray/model/'+'term_prj.h5')"
   ]
  },
  {
   "cell_type": "markdown",
   "metadata": {},
   "source": [
    "# 4. Evaluation"
   ]
  },
  {
   "cell_type": "code",
   "execution_count": null,
   "metadata": {},
   "outputs": [],
   "source": [
    "vgg.save('model.h5')"
   ]
  },
  {
   "cell_type": "code",
   "execution_count": null,
   "metadata": {},
   "outputs": [],
   "source": [
    "acc = history.history['acc']\n",
    "loss = history.history['loss']\n",
    " \n",
    "epochs = range(1, len(acc) + 1)\n",
    " \n",
    "plt.plot(epochs, acc, 'b', label='Training acc')\n",
    "plt.title('Accuracy')\n",
    "plt.legend()\n",
    "plt.figure()\n",
    " \n",
    "plt.plot(epochs, loss, 'b', label='Training loss')\n",
    "plt.title('Loss')\n",
    "plt.legend()\n",
    "plt.show()\n",
    "\n",
    "\n"
   ]
  },
  {
   "cell_type": "code",
   "execution_count": null,
   "metadata": {},
   "outputs": [],
   "source": []
  }
 ],
 "metadata": {
  "kernelspec": {
   "display_name": "Python 3",
   "language": "python",
   "name": "python3"
  },
  "language_info": {
   "codemirror_mode": {
    "name": "ipython",
    "version": 3
   },
   "file_extension": ".py",
   "mimetype": "text/x-python",
   "name": "python",
   "nbconvert_exporter": "python",
   "pygments_lexer": "ipython3",
   "version": "3.7.2"
  }
 },
 "nbformat": 4,
 "nbformat_minor": 1
}
